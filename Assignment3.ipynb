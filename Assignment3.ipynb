{
 "cells": [
  {
   "cell_type": "markdown",
   "id": "uniform-billy",
   "metadata": {},
   "source": [
    "<h1 align=\"center\"> CSE 242 Assignment 3, Spring 2025\n",
    "\n",
    "    Your name: Mengxiao Hu         Student ID: mhu110(2172399)"
   ]
  },
  {
   "cell_type": "markdown",
   "id": "6508d88e",
   "metadata": {},
   "source": [
    "## Instruction \n",
    "\n",
    "- Submit your assignments onto **Canvas** by the due date. Upload a **PDF** file containing:\n",
    "\n",
    "    (1) Your solutions for both math questions.\n",
    "    \n",
    "    **For assignment related questions, please reach TA or grader through Slack/Discord/Email.**\n",
    "    \n",
    "- This is an **individual** assignment. All help from others (from the web, books other than text, or people other than the TA or instructor) must be clearly acknowledged. \n",
    "\n",
    "## Objective \n",
    "\n",
    "- **Task 1:** Perceptron (math)\n",
    "- **Task 2:** Support Vector Machine (math)"
   ]
  },
  {
   "cell_type": "markdown",
   "id": "0d759789",
   "metadata": {},
   "source": [
    "# Question 1. (Perceptron, 50 pts)"
   ]
  },
  {
   "cell_type": "markdown",
   "id": "16747c08",
   "metadata": {},
   "source": [
    "## (a -- 10 pts)\n",
    "\n",
    "On what kinds of training data does the perceptron algorithm converge?\n",
    "\n",
    "The perceptron algorithm converges when the training data is linearly separable."
   ]
  },
  {
   "cell_type": "markdown",
   "id": "0c44b4cb",
   "metadata": {},
   "source": [
    "## (b -- 5*4 + 20 pts) \n",
    "\n",
    "Simulate one pass through the following data with the perceptron algorithm described in lecture and homework.\n",
    "Use the learning rate $\\eta = 1$. \n",
    "\n",
    "Start with $w=(0,0,0)$ and show the resulting weight vector after each example.\n",
    "\n",
    "(Assume that the perceptron algorithm predicts incorrectly when $w \\cdot x = 0$, and ignore the bias term.)\n",
    "\n",
    "| $x_1$  | $x_2$ | $x_3$ |   $y$ |\n",
    "| :--- | :--- | :--- | :--- |\n",
    "| 1 | 0 | 1 |  +1|\n",
    "| 0 | -1 | 1 |  -1|\n",
    "| 1 | 1 | 1 | +1|\n",
    "| -1 | 2 | 0 |  -1|\n",
    "\n",
    "Initially, $w = ( 0, 0, 0)$, $x = (1, 0, 1)$, $y = +1$\n",
    "\n",
    "$w \\cdot x = 0 + 0 + 0 = 0$, the prediction is incorrect.\n",
    "\n",
    "Update: $w \\leftarrow w + \\eta y x = (0, 0, 0) + 1*(+1)*(1, 0, 1) = (1, 0, 1)$\n",
    "\n",
    "After the first example, $w = ( 1, 0, 1)$, $x = (0, -1, 1)$, $y = -1$\n",
    "\n",
    "$w \\cdot x = 0 + 0 + 1 = 1$, $y (w \\cdot x) = -1 * 1 = -1 \\leq 0$, the prediction is incorrect.\n",
    "\n",
    "Update: $w \\leftarrow w + \\eta y x = (1, 0, 1) + 1*(-1)*(0, -1, 1) = (1, 1, 0)$\n",
    "\n",
    "After the second example, $w = ( 1, 1, 0)$, $x = (1, 1, 1)$, $y = +1$\n",
    "\n",
    "$w \\cdot x = 1 + 1 + 0 = 2$, $y (w \\cdot x) = 1 * 2 = 2 > 0$,  the prediction is correct.\n",
    "\n",
    "Update: No update needed.\n",
    "\n",
    "After the third example, $w = ( 1, 1, 0)$, $x = (-1, 2, 0)$, $y = -1$\n",
    "\n",
    "$w \\cdot x = -1 + 2 + 0 = -1 + 2 + 0 = 1$, $y (w \\cdot x) = -1 * 1 = -1 \\leq 0$, prediction is incorrect.\n",
    "\n",
    "Update: $w \\leftarrow w + \\eta y x = (1, 1, 0) + 1*(-1)*(-1, 2, 0) = (1 + 1, 1 - 2, 0 + 0) = (2, -1, 0)$\n",
    "\n",
    "After the fourth example, $w = ( 2, -1, 0)$.\n",
    "\n",
    "\n"
   ]
  },
  {
   "cell_type": "markdown",
   "id": "7e70e951",
   "metadata": {},
   "source": [
    "# Question 2. (Support Vector Machines, 50 pts)\n",
    "Suppose that we have the following training set (where the instances have two features):\n",
    "\n",
    "| $x_1$ | $x_2$ | $y$ |\n",
    "| :--- | :--- | :--- |\n",
    "| 1 | 1  |  +1|\n",
    "| 1 | 2  |  +1|\n",
    "| 2 | 1  |  +1|\n",
    "| 0 | 0  |  -1|\n",
    "| 1 | 0  |  -1|\n",
    "| 0 | 1  |  -1|\n",
    "\n",
    "## (a -- 35 pts) \n",
    "\n",
    "Plot them and find the support vectors, with python `sklearn`.\n"
   ]
  },
  {
   "cell_type": "markdown",
   "id": "ad1d1508",
   "metadata": {},
   "source": [
    "## (b -- 15 pts) \n",
    "\n",
    "Using the support vectors, find the equation for the maximum margin separating plane, and determine the geometric margin. (Assume a simple linear SVM and no soft-margin). "
   ]
  }
 ],
 "metadata": {
  "kernelspec": {
   "display_name": "Python 3 (ipykernel)",
   "language": "python",
   "name": "python3"
  },
  "language_info": {
   "codemirror_mode": {
    "name": "ipython",
    "version": 3
   },
   "file_extension": ".py",
   "mimetype": "text/x-python",
   "name": "python",
   "nbconvert_exporter": "python",
   "pygments_lexer": "ipython3",
   "version": "3.9.12"
  }
 },
 "nbformat": 4,
 "nbformat_minor": 5
}
